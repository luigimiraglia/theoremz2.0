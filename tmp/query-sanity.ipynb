{
 "cells": [
  {
   "cell_type": "code",
   "execution_count": null,
   "id": "fdaf4052",
   "metadata": {},
   "outputs": [],
   "source": [
    "from sanity import groq, client\n",
    "\n",
    "# Query per trovare la lezione dell'ellisse\n",
    "query = groq\"\"\"\n",
    "*[_type == \"lesson\" && title match \"ellisse\"]{\n",
    "  title,\n",
    "  slug\n",
    "}\n",
    "\"\"\"\n",
    "\n",
    "result = client.fetch(query)\n",
    "print(result)"
   ]
  }
 ],
 "metadata": {
  "language_info": {
   "name": "python"
  }
 },
 "nbformat": 4,
 "nbformat_minor": 5
}
